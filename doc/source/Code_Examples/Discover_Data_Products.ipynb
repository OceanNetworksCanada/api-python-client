{
 "cells": [
  {
   "cell_type": "markdown",
   "metadata": {},
   "source": [
    "# Discover Data Products\n"
   ]
  },
  {
   "cell_type": "code",
   "execution_count": null,
   "metadata": {},
   "outputs": [],
   "source": [
    "# Get the token from your Oceans 3.0 profile page\n",
    "# Put \"TOKEN=[YOUR_TOKEN]\" in a .env file.\n",
    "\n",
    "from dotenv import load_dotenv\n",
    "import os\n",
    "from onc import ONC\n",
    "\n",
    "load_dotenv(override=True)\n",
    "token = os.getenv(\n",
    "    \"TOKEN\", \"\"\n",
    ")  # You can also replace the empty string (second argument) with your token.\n",
    "\n",
    "onc = ONC(token)"
   ]
  },
  {
   "cell_type": "markdown",
   "metadata": {},
   "source": [
    "## [/dataProducts](https://data.oceannetworks.ca/OpenAPI#get-/dataProducts)\n"
   ]
  },
  {
   "cell_type": "markdown",
   "metadata": {},
   "source": [
    "### Get all data products and their individual parameters from Oceans 3.0\n"
   ]
  },
  {
   "cell_type": "code",
   "execution_count": null,
   "metadata": {},
   "outputs": [],
   "source": [
    "onc.getDataProducts()"
   ]
  },
  {
   "cell_type": "markdown",
   "metadata": {},
   "source": [
    "### Get the data product options that are available for a specific data product code\n",
    "\n",
    "Return all data product options for the _dataProductCode_ \"**TSSD**\" (\"Time Series Scalar Data\").\n"
   ]
  },
  {
   "cell_type": "code",
   "execution_count": null,
   "metadata": {},
   "outputs": [],
   "source": [
    "params = {\n",
    "    \"dataProductCode\": \"TSSD\",\n",
    "}\n",
    "onc.getDataProducts(params)"
   ]
  },
  {
   "cell_type": "markdown",
   "metadata": {},
   "source": [
    "### Get all data product options that are available with a specific file extension\n",
    "\n",
    "Return all data product options which are available for the _extension_ \"**pdf**\".\n"
   ]
  },
  {
   "cell_type": "code",
   "execution_count": null,
   "metadata": {},
   "outputs": [],
   "source": [
    "params = {\n",
    "    \"extension\": \"pdf\",\n",
    "}\n",
    "onc.getDataProducts(params)"
   ]
  },
  {
   "cell_type": "markdown",
   "metadata": {},
   "source": [
    "### Get all data product options available for a specific data product code and specific file extension\n",
    "\n",
    "Return all data product options which are available for the _dataProductCode_ \"**TSSD**\" and _extension_ \"**csv**\".\n"
   ]
  },
  {
   "cell_type": "code",
   "execution_count": null,
   "metadata": {},
   "outputs": [],
   "source": [
    "params = {\n",
    "    \"dataProductCode\": \"TSSD\",\n",
    "    \"extension\": \"csv\",\n",
    "}\n",
    "onc.getDataProducts(params)"
   ]
  },
  {
   "cell_type": "markdown",
   "metadata": {},
   "source": [
    "### Get all data product options which have a certain word in the data product name\n",
    "\n",
    "Return all data product options which have \"**scalar**\" in the name.\n"
   ]
  },
  {
   "cell_type": "code",
   "execution_count": null,
   "metadata": {},
   "outputs": [],
   "source": [
    "params = {\n",
    "    \"dataProductName\": \"scalar\",\n",
    "}\n",
    "onc.getDataProducts(params)"
   ]
  },
  {
   "cell_type": "markdown",
   "metadata": {},
   "source": [
    "### Get all data product options that are available at a specific location on ONCs network\n",
    "\n",
    "Return all data product options that are available at the location with the _locationCode_ \"**BACAX**\" (\"Barkley Canyon Axis (POD1)\").\n"
   ]
  },
  {
   "cell_type": "code",
   "execution_count": null,
   "metadata": {},
   "outputs": [],
   "source": [
    "params = {\n",
    "    \"locationCode\": \"BACAX\",\n",
    "}\n",
    "onc.getDataProducts(params)"
   ]
  },
  {
   "cell_type": "markdown",
   "metadata": {},
   "source": [
    "### Get all data product options that are available for a specific file extension at a specific locationCode\n",
    "\n",
    "Return all data product options that are available for the _extension_ \"**mat**\" at the location with the _locationCode_ \"**BACAX**\" (\"Barkley Canyon Axis (POD1)\").\n"
   ]
  },
  {
   "cell_type": "code",
   "execution_count": null,
   "metadata": {},
   "outputs": [],
   "source": [
    "params = {\n",
    "    \"extension\": \"mat\",\n",
    "    \"locationCode\": \"BACAX\",\n",
    "}\n",
    "onc.getDataProducts(params)"
   ]
  },
  {
   "cell_type": "markdown",
   "metadata": {},
   "source": [
    "### Get all data products and their filter parameter options that are available on a specific deployed device\n",
    "\n",
    "Return all data product codes available for a device with the _deviceCode_ \"**NORTEKAQDPRO8398**\".\n"
   ]
  },
  {
   "cell_type": "code",
   "execution_count": null,
   "metadata": {},
   "outputs": [],
   "source": [
    "params = {\n",
    "    \"deviceCode\": \"NORTEKAQDPRO8398\",\n",
    "}\n",
    "onc.getDataProducts(params)"
   ]
  },
  {
   "cell_type": "markdown",
   "metadata": {},
   "source": [
    "### Get all data product options that are available for a specific device category\n",
    "\n",
    "Return all data product options which are available for the _deviceCategoryCode_ \"**ADCP150KHZ**\".\n"
   ]
  },
  {
   "cell_type": "code",
   "execution_count": null,
   "metadata": {},
   "outputs": [],
   "source": [
    "params = {\n",
    "    \"deviceCategoryCode\": \"ADCP150KHZ\",\n",
    "}\n",
    "onc.getDataProducts(params)"
   ]
  }
 ],
 "metadata": {
  "kernelspec": {
   "display_name": ".venv",
   "language": "python",
   "name": "python3"
  },
  "language_info": {
   "codemirror_mode": {
    "name": "ipython",
    "version": 3
   },
   "file_extension": ".py",
   "mimetype": "text/x-python",
   "name": "python",
   "nbconvert_exporter": "python",
   "pygments_lexer": "ipython3",
   "version": "3.10.12"
  },
  "mystnb": {
   "remove_code_outputs": true
  }
 },
 "nbformat": 4,
 "nbformat_minor": 2
}
