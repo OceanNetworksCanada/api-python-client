{
 "cells": [
  {
   "cell_type": "markdown",
   "metadata": {},
   "source": [
    "# Download Data Product\n"
   ]
  },
  {
   "cell_type": "code",
   "execution_count": null,
   "metadata": {},
   "outputs": [],
   "source": [
    "# Get the token from your Oceans 3.0 profile page\n",
    "# Put \"TOKEN=[YOUR_TOKEN]\" in a .env file.\n",
    "\n",
    "from dotenv import load_dotenv\n",
    "import os\n",
    "from onc import ONC\n",
    "\n",
    "load_dotenv(override=True)\n",
    "token = os.getenv(\n",
    "    \"TOKEN\", \"\"\n",
    ")  # You can also replace the empty string (second argument) with your token.\n",
    "\n",
    "onc = ONC(token)"
   ]
  },
  {
   "cell_type": "markdown",
   "metadata": {},
   "source": [
    "## Download a _png_ plot of data from a CTD\n"
   ]
  },
  {
   "cell_type": "code",
   "execution_count": null,
   "metadata": {},
   "outputs": [],
   "source": [
    "params = {\n",
    "    \"locationCode\": \"BIIP\",\n",
    "    \"deviceCategoryCode\": \"CTD\",\n",
    "    \"dataProductCode\": \"TSSP\",\n",
    "    \"extension\": \"png\",\n",
    "    \"dateFrom\": \"2019-06-20T00:00:00.000Z\",\n",
    "    \"dateTo\": \"2019-06-20T00:30:00.000Z\",\n",
    "    \"dpo_qualityControl\": \"1\",\n",
    "    \"dpo_resample\": \"none\",\n",
    "}\n",
    "result = onc.orderDataProduct(params, includeMetadataFile=False)"
   ]
  },
  {
   "cell_type": "markdown",
   "metadata": {},
   "source": [
    "## Download time series readings from a device in _csv_ format\n"
   ]
  },
  {
   "cell_type": "code",
   "execution_count": null,
   "metadata": {},
   "outputs": [],
   "source": [
    "params = {\n",
    "    \"locationCode\": \"BACAX\",\n",
    "    \"deviceCategoryCode\": \"ADCP2MHZ\",\n",
    "    \"dataProductCode\": \"TSSD\",\n",
    "    \"extension\": \"csv\",\n",
    "    \"dateFrom\": \"2016-07-27T00:00:00.000Z\",\n",
    "    \"dateTo\": \"2016-08-01T00:00:00.000Z\",\n",
    "    \"dpo_qualityControl\": 1,\n",
    "    \"dpo_resample\": \"none\",\n",
    "    \"dpo_dataGaps\": 0,\n",
    "}\n",
    "result = onc.orderDataProduct(params)"
   ]
  }
 ],
 "metadata": {
  "kernelspec": {
   "display_name": ".venv",
   "language": "python",
   "name": "python3"
  },
  "language_info": {
   "codemirror_mode": {
    "name": "ipython",
    "version": 3
   },
   "file_extension": ".py",
   "mimetype": "text/x-python",
   "name": "python",
   "nbconvert_exporter": "python",
   "pygments_lexer": "ipython3",
   "version": "3.10.6"
  },
  "mystnb": {
   "remove_code_outputs": true
  }
 },
 "nbformat": 4,
 "nbformat_minor": 2
}
