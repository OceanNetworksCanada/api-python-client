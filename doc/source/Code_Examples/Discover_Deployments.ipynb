{
 "cells": [
  {
   "cell_type": "markdown",
   "metadata": {},
   "source": [
    "# Discover Deployments\n"
   ]
  },
  {
   "cell_type": "code",
   "execution_count": 3,
   "metadata": {},
   "outputs": [],
   "source": [
    "# Get the token from your Oceans 3.0 profile page\n",
    "# Put \"TOKEN=[YOUR_TOKEN]\" in a .env file.\n",
    "\n",
    "from dotenv import load_dotenv\n",
    "import os\n",
    "from onc import ONC\n",
    "\n",
    "load_dotenv(override=True)\n",
    "token = os.getenv(\n",
    "    \"TOKEN\", \"\"\n",
    ")  # You can also replace the empty string (second argument) with your token.\n",
    "\n",
    "onc = ONC(token)"
   ]
  },
  {
   "cell_type": "markdown",
   "metadata": {},
   "source": [
    "## [/deployments](https://data.oceannetworks.ca/OpenAPI#get-/deployments)\n"
   ]
  },
  {
   "cell_type": "markdown",
   "metadata": {},
   "source": [
    "### Get all deployments for a specific device code\n",
    "\n",
    "Return the deployments for the device with the _deviceCode_ \"**NORTEKAQDPRO8398**\".\n"
   ]
  },
  {
   "cell_type": "code",
   "execution_count": null,
   "metadata": {},
   "outputs": [],
   "source": [
    "params = {\n",
    "    \"deviceCode\": \"NORTEKAQDPRO8398\",\n",
    "}\n",
    "onc.getDeployments(params)"
   ]
  },
  {
   "cell_type": "markdown",
   "metadata": {},
   "source": [
    "### Get all deployments at a specific location\n",
    "\n",
    "Return all deployments at the location with the _locationCode_ \"**BACAX**\".\n"
   ]
  },
  {
   "cell_type": "code",
   "execution_count": null,
   "metadata": {},
   "outputs": [],
   "source": [
    "params = {\n",
    "    \"locationCode\": \"BACAX\",\n",
    "}\n",
    "onc.getDeployments(params)"
   ]
  },
  {
   "cell_type": "markdown",
   "metadata": {},
   "source": [
    "### Get all deployments with a specific device category\n",
    "\n",
    "Return all deployments with the _deviceCategoryCode_ \"**ADCP2MHZ**\".\n"
   ]
  },
  {
   "cell_type": "code",
   "execution_count": null,
   "metadata": {},
   "outputs": [],
   "source": [
    "params = {\n",
    "    \"deviceCategoryCode\": \"ADCP2MHZ\",\n",
    "}\n",
    "onc.getDeployments(params)"
   ]
  },
  {
   "cell_type": "markdown",
   "metadata": {},
   "source": [
    "### Get all deployments with a specific property\n",
    "\n",
    "Return all deployments with instruments that measure the property \"**oxygen**\".\n"
   ]
  },
  {
   "cell_type": "code",
   "execution_count": null,
   "metadata": {},
   "outputs": [],
   "source": [
    "params = {\n",
    "    \"propertyCode\": \"oxygen\",\n",
    "}\n",
    "onc.getDeployments(params)"
   ]
  },
  {
   "cell_type": "markdown",
   "metadata": {},
   "source": [
    "### Get all deployments with a specific device category and a specific property\n",
    "\n",
    "Return all deployments that have devices with the device category \"**CTD**\" and property \"**pressure**\".\n"
   ]
  },
  {
   "cell_type": "code",
   "execution_count": null,
   "metadata": {},
   "outputs": [],
   "source": [
    "params = {\n",
    "    \"deviceCategoryCode\": \"CTD\",\n",
    "    \"propertyCode\": \"pressure\",\n",
    "}\n",
    "onc.getDeployments(params)"
   ]
  },
  {
   "cell_type": "markdown",
   "metadata": {},
   "source": [
    "### Get all deployments between two dates\n",
    "\n",
    "Return all deployments between 1 July 2010 and 30 June 2011. Check [here](https://wiki.oceannetworks.ca/display/O2A/Glossary+of+Terms#GlossaryofTerms-ISO8601Duration) for additional information about the supported dates/times format.\n"
   ]
  },
  {
   "cell_type": "code",
   "execution_count": null,
   "metadata": {},
   "outputs": [],
   "source": [
    "params = {\n",
    "    \"dateFrom\": \"2010-07-01\",\n",
    "    \"dateTo\": \"2011-06-30T23:59:59.999Z\",\n",
    "}\n",
    "onc.getDeployments(params)"
   ]
  },
  {
   "cell_type": "markdown",
   "metadata": {},
   "source": [
    "### Get all deployments at a specific location, between two dates\n",
    "\n",
    "Return all deployments between 1 July 2010 and 30 June 2011, at the location with the _locationCode_ \"**BACAX**\" (\"Barkely Canyon Axis (POD1)\").\n"
   ]
  },
  {
   "cell_type": "code",
   "execution_count": null,
   "metadata": {},
   "outputs": [],
   "source": [
    "params = {\n",
    "    \"locationCode\": \"BACAX\",\n",
    "    \"dateFrom\": \"2010-07-01\",\n",
    "    \"dateTo\": \"2011-06-30T23:59:59.999Z\",\n",
    "}\n",
    "onc.getDeployments(params)"
   ]
  },
  {
   "cell_type": "markdown",
   "metadata": {},
   "source": [
    "### Get all deployments at a specific location, between two dates, with a sensor with a specific property code\n",
    "\n",
    "Return all deployments between 1 July 2010 and 30 June 2011, at the location with the _locationCode_ \"**BACAX**\" (\"Barkely Canyon Axis (POD1)\"), with the _propertyCode_ \"**seawatertemperature**\".\n"
   ]
  },
  {
   "cell_type": "code",
   "execution_count": null,
   "metadata": {},
   "outputs": [],
   "source": [
    "params = {\n",
    "    \"locationCode\": \"BACAX\",\n",
    "    \"propertyCode\": \"seawatertemperature\",\n",
    "    \"dateFrom\": \"2010-07-01\",\n",
    "    \"dateTo\": \"2011-06-30T23:59:59.999Z\",\n",
    "}\n",
    "onc.getDeployments(params)"
   ]
  }
 ],
 "metadata": {
  "kernelspec": {
   "display_name": ".venv",
   "language": "python",
   "name": "python3"
  },
  "language_info": {
   "codemirror_mode": {
    "name": "ipython",
    "version": 3
   },
   "file_extension": ".py",
   "mimetype": "text/x-python",
   "name": "python",
   "nbconvert_exporter": "python",
   "pygments_lexer": "ipython3",
   "version": "3.10.12"
  },
  "mystnb": {
   "remove_code_outputs": true
  }
 },
 "nbformat": 4,
 "nbformat_minor": 2
}
