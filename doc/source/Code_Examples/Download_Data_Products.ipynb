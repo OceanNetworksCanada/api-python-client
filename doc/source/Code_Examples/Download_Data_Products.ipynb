{
 "cells": [
  {
   "cell_type": "markdown",
   "metadata": {},
   "source": [
    "# Download Data Products\n"
   ]
  },
  {
   "cell_type": "code",
   "execution_count": null,
   "metadata": {},
   "outputs": [],
   "source": [
    "# Get the token from your Oceans 3.0 profile page\n",
    "# Put \"TOKEN=[YOUR_TOKEN]\" in a .env file.\n",
    "\n",
    "from dotenv import load_dotenv\n",
    "import os\n",
    "from onc import ONC\n",
    "\n",
    "load_dotenv(override=True)\n",
    "token = os.getenv(\n",
    "    \"TOKEN\", \"\"\n",
    ")  # You can also replace the empty string (second argument) with your token.\n",
    "\n",
    "onc = ONC(token)"
   ]
  },
  {
   "cell_type": "markdown",
   "metadata": {},
   "source": [
    "## Request, run, and download a data product\n"
   ]
  },
  {
   "cell_type": "markdown",
   "metadata": {},
   "source": [
    "### Download a time-series data plot with file extension _png_ from a CTD located at Straight of Georgia East\n"
   ]
  },
  {
   "cell_type": "code",
   "execution_count": null,
   "metadata": {},
   "outputs": [],
   "source": [
    "params = {\n",
    "    \"locationCode\": \"SEVIP\",\n",
    "    \"deviceCategoryCode\": \"CTD\",\n",
    "    \"dataProductCode\": \"TSSP\",\n",
    "    \"extension\": \"png\",\n",
    "    \"dateFrom\": \"2019-06-20T00:00:00.000Z\",\n",
    "    \"dateTo\": \"2019-06-21T00:00:00.000Z\",\n",
    "    \"dpo_qualityControl\": \"1\",\n",
    "    \"dpo_resample\": \"none\",\n",
    "}\n",
    "result = onc.orderDataProduct(params, includeMetadataFile=False)"
   ]
  },
  {
   "cell_type": "markdown",
   "metadata": {},
   "source": [
    "### Download _csv_ files of time series scalar data readings from amn ADCP device located at Barkley Canyon Axis\n"
   ]
  },
  {
   "cell_type": "code",
   "execution_count": null,
   "metadata": {},
   "outputs": [],
   "source": [
    "params = {\n",
    "    \"locationCode\": \"BACAX\",\n",
    "    \"deviceCategoryCode\": \"ADCP2MHZ\",\n",
    "    \"dataProductCode\": \"TSSD\",\n",
    "    \"extension\": \"csv\",\n",
    "    \"dateFrom\": \"2016-07-27T00:00:00.000Z\",\n",
    "    \"dateTo\": \"2016-08-01T00:00:00.000Z\",\n",
    "    \"dpo_qualityControl\": 1,\n",
    "    \"dpo_resample\": \"none\",\n",
    "    \"dpo_dataGaps\": 0,\n",
    "}\n",
    "result = onc.orderDataProduct(params)"
   ]
  }
 ],
 "metadata": {
  "kernelspec": {
   "display_name": ".venv",
   "language": "python",
   "name": "python3"
  },
  "language_info": {
   "codemirror_mode": {
    "name": "ipython",
    "version": 3
   },
   "file_extension": ".py",
   "mimetype": "text/x-python",
   "name": "python",
   "nbconvert_exporter": "python",
   "pygments_lexer": "ipython3",
   "version": "3.11.7"
  },
  "mystnb": {
   "remove_code_outputs": true
  }
 },
 "nbformat": 4,
 "nbformat_minor": 2
}
