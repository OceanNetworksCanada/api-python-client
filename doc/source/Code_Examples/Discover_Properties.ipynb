{
 "cells": [
  {
   "cell_type": "markdown",
   "metadata": {},
   "source": [
    "# Discover Properties\n"
   ]
  },
  {
   "cell_type": "code",
   "execution_count": null,
   "metadata": {},
   "outputs": [],
   "source": [
    "# Get the token from your Oceans 3.0 profile page\n",
    "# Put \"TOKEN=[YOUR_TOKEN]\" in a .env file.\n",
    "\n",
    "from dotenv import load_dotenv\n",
    "import os\n",
    "from onc import ONC\n",
    "\n",
    "load_dotenv(override=True)\n",
    "token = os.getenv(\n",
    "    \"TOKEN\", \"\"\n",
    ")  # You can also replace the empty string (second argument) with your token.\n",
    "\n",
    "onc = ONC(token)"
   ]
  },
  {
   "cell_type": "markdown",
   "metadata": {},
   "source": [
    "## [/properties](https://data.oceannetworks.ca/OpenAPI#get-/properties)\n"
   ]
  },
  {
   "cell_type": "markdown",
   "metadata": {},
   "source": [
    "### Get all properties\n"
   ]
  },
  {
   "cell_type": "code",
   "execution_count": null,
   "metadata": {},
   "outputs": [],
   "source": [
    "onc.getProperties()"
   ]
  },
  {
   "cell_type": "markdown",
   "metadata": {},
   "source": [
    "### Get the property information for a specific property code\n",
    "\n",
    "Return the property for the _propertyCode_ \"**seawatertemperature**\".\n"
   ]
  },
  {
   "cell_type": "code",
   "execution_count": null,
   "metadata": {},
   "outputs": [],
   "source": [
    "params = {\n",
    "    \"propertyCode\": \"seawatertemperature\",\n",
    "}\n",
    "onc.getProperties(params)"
   ]
  },
  {
   "cell_type": "markdown",
   "metadata": {},
   "source": [
    "### Get all properties which have a certain word in the property name\n",
    "\n",
    "Return all properties which have \"**pressure**\" in the name.\n"
   ]
  },
  {
   "cell_type": "code",
   "execution_count": null,
   "metadata": {},
   "outputs": [],
   "source": [
    "params = {\n",
    "    \"propertyName\": \"pressure\",\n",
    "}\n",
    "onc.getProperties(params)"
   ]
  },
  {
   "cell_type": "markdown",
   "metadata": {},
   "source": [
    "### Get all of the properties that are available at a specific location\n",
    "\n",
    "Return all properties that are available at the location with the _locationCode_ \"**BACAX**\" (\"Barkley Canyon Axis (POD1)\").\n"
   ]
  },
  {
   "cell_type": "code",
   "execution_count": null,
   "metadata": {},
   "outputs": [],
   "source": [
    "params = {\n",
    "    \"locationCode\": \"BACAX\",\n",
    "}\n",
    "onc.getProperties(params)"
   ]
  },
  {
   "cell_type": "markdown",
   "metadata": {},
   "source": [
    "### Get all properties that are available for specific device\n",
    "\n",
    "Return all properties available for a device with the _deviceCode_ \"**NORTEKAQDPRO8398**\".\n"
   ]
  },
  {
   "cell_type": "code",
   "execution_count": null,
   "metadata": {},
   "outputs": [],
   "source": [
    "params = {\n",
    "    \"deviceCode\": \"NORTEKAQDPRO8398\",\n",
    "}\n",
    "onc.getProperties(params)"
   ]
  },
  {
   "cell_type": "markdown",
   "metadata": {},
   "source": [
    "### Get all properties that are available for a specific device category\n",
    "\n",
    "Return all properties which are available for the device category \"**ADCP150KHZ**\".\n"
   ]
  },
  {
   "cell_type": "code",
   "execution_count": null,
   "metadata": {},
   "outputs": [],
   "source": [
    "params = {\n",
    "    \"deviceCategoryCode\": \"ADCP150KHZ\",\n",
    "}\n",
    "onc.getDeviceCategories(params)"
   ]
  }
 ],
 "metadata": {
  "kernelspec": {
   "display_name": ".venv",
   "language": "python",
   "name": "python3"
  },
  "language_info": {
   "codemirror_mode": {
    "name": "ipython",
    "version": 3
   },
   "file_extension": ".py",
   "mimetype": "text/x-python",
   "name": "python",
   "nbconvert_exporter": "python",
   "pygments_lexer": "ipython3",
   "version": "3.10.12"
  },
  "mystnb": {
   "remove_code_outputs": true
  }
 },
 "nbformat": 4,
 "nbformat_minor": 2
}
