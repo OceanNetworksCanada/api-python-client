{
 "cells": [
  {
   "cell_type": "markdown",
   "metadata": {},
   "source": [
    "# Discover Locations\n"
   ]
  },
  {
   "cell_type": "code",
   "execution_count": null,
   "metadata": {},
   "outputs": [],
   "source": [
    "# Get the token from your Oceans 3.0 profile page\n",
    "# Put \"TOKEN=[YOUR_TOKEN]\" in a .env file.\n",
    "\n",
    "from dotenv import load_dotenv\n",
    "import os\n",
    "from onc import ONC\n",
    "\n",
    "load_dotenv(override=True)\n",
    "token = os.getenv(\n",
    "    \"TOKEN\", \"\"\n",
    ")  # You can also replace the empty string (second argument) with your token.\n",
    "\n",
    "onc = ONC(token)"
   ]
  },
  {
   "cell_type": "markdown",
   "metadata": {},
   "source": [
    "## Get all locations\n"
   ]
  },
  {
   "cell_type": "code",
   "execution_count": null,
   "metadata": {},
   "outputs": [],
   "source": [
    "onc.getLocations()"
   ]
  },
  {
   "cell_type": "markdown",
   "metadata": {},
   "source": [
    "## Get the location for a specific location code\n",
    "\n",
    "Return the location with the _locationCode_ \"BACAX\".\n"
   ]
  },
  {
   "cell_type": "code",
   "execution_count": null,
   "metadata": {},
   "outputs": [],
   "source": [
    "params = {\n",
    "    \"locationCode\": \"BACAX\",\n",
    "}\n",
    "onc.getLocations(params)"
   ]
  },
  {
   "cell_type": "markdown",
   "metadata": {},
   "source": [
    "## Get all locations, including and below a location in the Oceans 3.0 Data Search Tree\n",
    "\n",
    "Return all locations including and below location \"NEP\" (\"Northeast Pacific\") in the Oceans 3.0 [Data Search Tree](https://data.oceannetworks.ca/DataSearch?locationCode=NEP).\n"
   ]
  },
  {
   "cell_type": "code",
   "execution_count": null,
   "metadata": {},
   "outputs": [],
   "source": [
    "params = {\n",
    "    \"locationCode\": \"NEP\",\n",
    "    \"includeChildren\": \"true\",\n",
    "}\n",
    "onc.getLocations(params)"
   ]
  },
  {
   "cell_type": "markdown",
   "metadata": {},
   "source": [
    "## Get all locations with instruments of a specific device category, including and below a location in the Oceans 3.0 Data Search Tree,\n",
    "\n",
    "Return all locations in Northeast Pacific with hydrophones deployed.\n"
   ]
  },
  {
   "cell_type": "code",
   "execution_count": null,
   "metadata": {},
   "outputs": [],
   "source": [
    "params = {\n",
    "    \"locationCode\": \"NEP\",\n",
    "    \"deviceCategoryCode\": \"HYDROPHONE\",\n",
    "    \"includeChildren\": \"true\",\n",
    "}\n",
    "onc.getLocations(params)"
   ]
  },
  {
   "cell_type": "markdown",
   "metadata": {},
   "source": [
    "## Get all locations which have a certain word in the name\n",
    "\n",
    "Return all locations with \"underwater\" as part of the name.\n"
   ]
  },
  {
   "cell_type": "code",
   "execution_count": null,
   "metadata": {},
   "outputs": [],
   "source": [
    "params = {\n",
    "    \"locationName\": \"underwater\",\n",
    "}\n",
    "onc.getLocations(params)"
   ]
  },
  {
   "cell_type": "markdown",
   "metadata": {},
   "source": [
    "## Get all locations with instruments of a specific device category\n",
    "\n",
    "Return all locations which have at least one instrument for the _deviceCategoryCode_ \"ADCP150KHZ\".\n"
   ]
  },
  {
   "cell_type": "code",
   "execution_count": null,
   "metadata": {},
   "outputs": [],
   "source": [
    "params = {\n",
    "    \"deviceCategoryCode\": \"ADCP150KHZ\",\n",
    "}\n",
    "onc.getLocations(params)"
   ]
  },
  {
   "cell_type": "markdown",
   "metadata": {},
   "source": [
    "## Get all locations with instruments that have a specific property\n",
    "\n",
    "Return all locations with at least one instrument that measures the property \"differentialtermperature\".\n"
   ]
  },
  {
   "cell_type": "code",
   "execution_count": null,
   "metadata": {},
   "outputs": [],
   "source": [
    "params = {\n",
    "    \"propertyCode\": \"differentialtemperature\",\n",
    "}\n",
    "onc.getLocations(params)"
   ]
  },
  {
   "cell_type": "markdown",
   "metadata": {},
   "source": [
    "## Get all locations with instruments that have a specific device category and a specific property\n",
    "\n",
    "Return all locations with at least one instrument that has the device category \"CTD\" and property \"pressure\".\n"
   ]
  },
  {
   "cell_type": "code",
   "execution_count": null,
   "metadata": {},
   "outputs": [],
   "source": [
    "params = {\n",
    "    \"deviceCategoryCode\": \"CTD\",\n",
    "    \"propertyCode\": \"pressure\",\n",
    "}\n",
    "onc.getLocations(params)"
   ]
  },
  {
   "cell_type": "markdown",
   "metadata": {},
   "source": [
    "## Get all locations where a specific device has been deployed\n",
    "\n",
    "Return all locations where a device with the _deviceCode_ \"NORTEKAQDPRO8398\" has been deployed.\n"
   ]
  },
  {
   "cell_type": "code",
   "execution_count": null,
   "metadata": {},
   "outputs": [],
   "source": [
    "params = {\n",
    "    \"deviceCode\": \"NORTEKAQDPRO8398\",\n",
    "}\n",
    "onc.getLocations(params)"
   ]
  },
  {
   "cell_type": "markdown",
   "metadata": {},
   "source": [
    "## Get all locations with instruments that support a specific data product code\n",
    "\n",
    "Return all Locations with instruments that support the _dataProductCode_ \"IBPP\" (\"Ice Buoy Profile Plots\").\n"
   ]
  },
  {
   "cell_type": "code",
   "execution_count": null,
   "metadata": {},
   "outputs": [],
   "source": [
    "params = {\n",
    "    \"dataProductCode\": \"IBPP\",\n",
    "}\n",
    "onc.getLocations(params)"
   ]
  },
  {
   "cell_type": "markdown",
   "metadata": {},
   "source": [
    "## Get all locations with instruments deployed between two dates\n",
    "\n",
    "Return all locations with instruments that were deployed between 1 July 2010 and 30 June 2011. Check [here](https://wiki.oceannetworks.ca/display/O2A/Glossary+of+Terms#GlossaryofTerms-ISO8601Duration) for additional information about the supported dates/times format.\n"
   ]
  },
  {
   "cell_type": "code",
   "execution_count": null,
   "metadata": {},
   "outputs": [],
   "source": [
    "params = {\n",
    "    \"dateFrom\": \"2010-07-01\",\n",
    "    \"dateTo\": \"2011-06-30T23:59:59.999Z\",\n",
    "}\n",
    "onc.getLocations(params)"
   ]
  },
  {
   "cell_type": "markdown",
   "metadata": {},
   "source": [
    "## Get all locations with instruments deployed between two dates, with a sensor for a specific property\n",
    "\n",
    "Return all locations with instruments that were deployed between 1 July 2010 and 30 June 2011, and have a sensor for the _propertyCode_ \"seawatertemperature\".\n"
   ]
  },
  {
   "cell_type": "code",
   "execution_count": null,
   "metadata": {},
   "outputs": [],
   "source": [
    "params = {\n",
    "    \"propertyCode\": \"seawatertemperature\",\n",
    "    \"dateFrom\": \"2010-07-01\",\n",
    "    \"dateTo\": \"2011-06-30T23:59:59.999Z\",\n",
    "}\n",
    "onc.getLocations(params)"
   ]
  },
  {
   "cell_type": "markdown",
   "metadata": {},
   "source": [
    "## Get location hierarchy including and below a specific location\n",
    "\n",
    "Return the location hierarchy from the \"MOBP\" (\"Mobile Platforms\") node and below.\n"
   ]
  },
  {
   "cell_type": "code",
   "execution_count": null,
   "metadata": {},
   "outputs": [],
   "source": [
    "params = {\n",
    "    \"locationCode\": \"MOBP\",\n",
    "}\n",
    "onc.getLocationHierarchy(params)"
   ]
  }
 ],
 "metadata": {
  "kernelspec": {
   "display_name": ".venv",
   "language": "python",
   "name": "python3"
  },
  "language_info": {
   "codemirror_mode": {
    "name": "ipython",
    "version": 3
   },
   "file_extension": ".py",
   "mimetype": "text/x-python",
   "name": "python",
   "nbconvert_exporter": "python",
   "pygments_lexer": "ipython3",
   "version": "3.10.6"
  },
  "mystnb": {
   "remove_code_outputs": true
  }
 },
 "nbformat": 4,
 "nbformat_minor": 2
}
