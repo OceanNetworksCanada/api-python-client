{
 "cells": [
  {
   "cell_type": "markdown",
   "metadata": {},
   "source": [
    "# Download Archived Files\n"
   ]
  },
  {
   "cell_type": "code",
   "execution_count": null,
   "metadata": {},
   "outputs": [],
   "source": [
    "# Get the token from your Oceans 3.0 profile page\n",
    "# Put \"TOKEN=[YOUR_TOKEN]\" in a .env file.\n",
    "\n",
    "from dotenv import load_dotenv\n",
    "import os\n",
    "from onc import ONC\n",
    "\n",
    "load_dotenv(override=True)\n",
    "token = os.getenv(\n",
    "    \"TOKEN\", \"\"\n",
    ")  # You can also replace the empty string (second argument) with your token.\n",
    "\n",
    "onc = ONC(token)"
   ]
  },
  {
   "cell_type": "markdown",
   "metadata": {},
   "source": [
    "## Get a list of _ruv_ archived files available from a radar in 24 hours\n"
   ]
  },
  {
   "cell_type": "code",
   "execution_count": null,
   "metadata": {},
   "outputs": [],
   "source": [
    "params = {\n",
    "    \"locationCode\": \"VION\",\n",
    "    \"deviceCategoryCode\": \"OCEANOGRAPHICRADAR\",\n",
    "    \"extension\": \"ruv\",\n",
    "    \"dateFrom\": \"2018-11-07T00:00:00.000Z\",\n",
    "    \"dateTo\": \"2018-11-08T00:00:00.000Z\",\n",
    "}\n",
    "\n",
    "onc.getListByLocation(params)"
   ]
  },
  {
   "cell_type": "markdown",
   "metadata": {},
   "source": [
    "## Get a list of all archived files available in a device in one day\n"
   ]
  },
  {
   "cell_type": "code",
   "execution_count": null,
   "metadata": {},
   "outputs": [],
   "source": [
    "params = {\n",
    "    \"deviceCode\": \"RDIADCP600WH25471\",\n",
    "    \"dateFrom\": \"2019-06-07T00:00:00.000Z\",\n",
    "    \"dateTo\": \"2019-06-08T00:00:00.000Z\",\n",
    "}\n",
    "\n",
    "onc.getListByDevice(params)"
   ]
  },
  {
   "cell_type": "markdown",
   "metadata": {},
   "source": [
    "## Download a file by its filename\n"
   ]
  },
  {
   "cell_type": "code",
   "execution_count": null,
   "metadata": {},
   "outputs": [],
   "source": [
    "onc.getFile(\"BC_POD2_JB_20181107T000000.000Z.txt\")"
   ]
  },
  {
   "cell_type": "markdown",
   "metadata": {},
   "source": [
    "## List _wav_ files from a hydrophone in the last 2 hours\n"
   ]
  },
  {
   "cell_type": "code",
   "execution_count": null,
   "metadata": {},
   "outputs": [],
   "source": [
    "import datetime\n",
    "\n",
    "# Get the current ISO8601 timestamp, without milliseconds\n",
    "now = datetime.datetime.utcnow().replace(microsecond=0).isoformat() + \".000Z\"\n",
    "\n",
    "params = {\n",
    "    \"locationCode\": \"SEVIP\",  # Strait of Georgia East\n",
    "    \"deviceCategoryCode\": \"HYDROPHONE\",  # Hydrophones\n",
    "    \"dateFrom\": \"-PT2H\",  # Minus 2 hours from dateTo\n",
    "    \"dateTo\": now,\n",
    "    \"extension\": \"wav\",\n",
    "}\n",
    "\n",
    "# List available files (will throw an exception if there are no deployments for the device during the last two hours)\n",
    "# onc.getListByLocation(params)"
   ]
  },
  {
   "cell_type": "markdown",
   "metadata": {},
   "source": [
    "## Download all _wav_ files from a hydrophone in the last 2 hours\n"
   ]
  },
  {
   "cell_type": "code",
   "execution_count": null,
   "metadata": {},
   "outputs": [],
   "source": [
    "import datetime\n",
    "\n",
    "# Get the current ISO8601 timestamp, without milliseconds\n",
    "now = datetime.datetime.utcnow().replace(microsecond=0).isoformat() + \".000Z\"\n",
    "\n",
    "params = {\n",
    "    \"locationCode\": \"SEVIP\",  # Strait of Georgia East\n",
    "    \"deviceCategoryCode\": \"HYDROPHONE\",  # Hydrophones\n",
    "    \"dateFrom\": \"-PT2H\",  # Minus 2 hours from dateTo\n",
    "    \"dateTo\": now,\n",
    "    \"extension\": \"wav\",\n",
    "}\n",
    "\n",
    "# Download available files (will throw an exception if there are no deployments for the device during the last two hours)\n",
    "# onc.getDirectFiles(params)"
   ]
  }
 ],
 "metadata": {
  "kernelspec": {
   "display_name": ".venv",
   "language": "python",
   "name": "python3"
  },
  "language_info": {
   "codemirror_mode": {
    "name": "ipython",
    "version": 3
   },
   "file_extension": ".py",
   "mimetype": "text/x-python",
   "name": "python",
   "nbconvert_exporter": "python",
   "pygments_lexer": "ipython3",
   "version": "3.10.6"
  },
  "mystnb": {
   "remove_code_outputs": true
  }
 },
 "nbformat": 4,
 "nbformat_minor": 2
}
