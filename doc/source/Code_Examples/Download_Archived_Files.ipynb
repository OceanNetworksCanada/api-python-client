{
 "cells": [
  {
   "cell_type": "markdown",
   "metadata": {},
   "source": [
    "# Download Archived Files\n"
   ]
  },
  {
   "cell_type": "code",
   "execution_count": null,
   "metadata": {},
   "outputs": [],
   "source": [
    "# Get the token from your Oceans 3.0 profile page\n",
    "# Put \"TOKEN=[YOUR_TOKEN]\" in a .env file.\n",
    "\n",
    "from dotenv import load_dotenv\n",
    "import os\n",
    "from onc import ONC\n",
    "\n",
    "load_dotenv(override=True)\n",
    "token = os.getenv(\n",
    "    \"TOKEN\", \"\"\n",
    ")  # You can also replace the empty string (second argument) with your token.\n",
    "\n",
    "onc = ONC(token)"
   ]
  },
  {
   "cell_type": "markdown",
   "metadata": {},
   "source": [
    "## [/archivefile/device](https://data.oceannetworks.ca/OpenAPI#get-/archivefile/device)\n"
   ]
  },
  {
   "cell_type": "markdown",
   "metadata": {},
   "source": [
    "### Get a list of all archived files available from a specific device for a specific time-range\n",
    "\n",
    "Return the archived files for a device with _deviceCode_ \"**RDIADCP600WH25471**\"\n"
   ]
  },
  {
   "cell_type": "code",
   "execution_count": null,
   "metadata": {},
   "outputs": [],
   "source": [
    "params = {\n",
    "    \"deviceCode\": \"RDIADCP600WH25471\",\n",
    "    \"dateFrom\": \"2019-06-07T00:00:00.000Z\",\n",
    "    \"dateTo\": \"2019-06-08T00:00:00.000Z\",\n",
    "}\n",
    "\n",
    "onc.getListByDevice(params)"
   ]
  },
  {
   "cell_type": "markdown",
   "metadata": {},
   "source": [
    "### Get a list of all archived files available from a specific device for a specific time-range with a specific extension\n",
    "\n",
    "Return the archived files for an ADCP instrument with _deviceCode_ \"**RDIADCP600WH25471**\" that have _rdi_ as the extension name.\n"
   ]
  },
  {
   "cell_type": "code",
   "execution_count": null,
   "metadata": {},
   "outputs": [],
   "source": [
    "params = {\n",
    "    \"deviceCode\": \"RDIADCP600WH25471\",\n",
    "    \"extension\": \"rdi\",\n",
    "    \"dateFrom\": \"2019-06-07T00:00:00.000Z\",\n",
    "    \"dateTo\": \"2019-06-08T00:00:00.000Z\",\n",
    "}\n",
    "\n",
    "onc.getListByDevice(params)"
   ]
  },
  {
   "cell_type": "markdown",
   "metadata": {},
   "source": [
    "### Download a file by its filename\n"
   ]
  },
  {
   "cell_type": "code",
   "execution_count": null,
   "metadata": {},
   "outputs": [],
   "source": [
    "onc.getFile(\"RDIADCP600WH25471_20190607T120000.555Z.rdi\", overwrite=True)"
   ]
  },
  {
   "cell_type": "markdown",
   "metadata": {},
   "source": [
    "## [/archivefile/location](https://data.oceannetworks.ca/OpenAPI#get-/archivefile/location)\n"
   ]
  },
  {
   "cell_type": "markdown",
   "metadata": {},
   "source": [
    "### Get a list of all archived files available from a specific location and a device category for a specific time-range\n",
    "\n",
    "Return the archived files for a device with _deviceCategoryCode_ \"**HYDROPHONE**\" at location Straight of Georgia East (_locationCode_:\"**SEVIP**\")\n"
   ]
  },
  {
   "cell_type": "code",
   "execution_count": null,
   "metadata": {},
   "outputs": [],
   "source": [
    "params = {\n",
    "    \"deviceCategoryCode\": \"HYDROPHONE\",\n",
    "    \"locationCode\": \"SEVIP\",\n",
    "    \"dateFrom\": \"2017-01-01T00:00:00.000Z\",\n",
    "    \"dateTo\": \"2019-12-31T00:00:00.000Z\",\n",
    "}\n",
    "\n",
    "onc.getListByLocation(params)[\"files\"]"
   ]
  },
  {
   "cell_type": "markdown",
   "metadata": {},
   "source": [
    "### Get a list of all archived files available from a specific location and a device category for a specific time-range with a specific file extension\n",
    "\n",
    "Return the archived files for a device with _deviceCategoryCode_ \"**HYDROPHONE**\" at location Straight of Georgia East (_locationCode_:\"**SEVIP**\") with file extension \"**wav**\".\n"
   ]
  },
  {
   "cell_type": "code",
   "execution_count": null,
   "metadata": {},
   "outputs": [],
   "source": [
    "params = {\n",
    "    \"deviceCategoryCode\": \"HYDROPHONE\",\n",
    "    \"locationCode\": \"SEVIP\",\n",
    "    \"extension\": \"wav\",\n",
    "    \"dateFrom\": \"2017-01-01T00:00:00.000Z\",\n",
    "    \"dateTo\": \"2019-12-31T00:00:00.000Z\",\n",
    "}\n",
    "\n",
    "onc.getListByLocation(params)[\"files\"]"
   ]
  },
  {
   "cell_type": "markdown",
   "metadata": {},
   "source": [
    "## Download archived files that match the parameters\n",
    "\n",
    "Download all \"wav\" files from a hydrophone at Straight of Georgia East (_locationCode_:\"**SEVIP**\") from the last 2 hours\n"
   ]
  },
  {
   "cell_type": "code",
   "execution_count": null,
   "metadata": {},
   "outputs": [],
   "source": [
    "import datetime\n",
    "\n",
    "# Get the current ISO8601 timestamp, without milliseconds\n",
    "now = datetime.datetime.utcnow().replace(microsecond=0).isoformat() + \".000Z\"\n",
    "\n",
    "params = {\n",
    "    \"locationCode\": \"SEVIP\",  # Strait of Georgia East\n",
    "    \"deviceCategoryCode\": \"HYDROPHONE\",  # Hydrophones\n",
    "    \"dateFrom\": \"-PT2H\",  # Minus 2 hours from dateTo\n",
    "    \"dateTo\": now,\n",
    "    \"extension\": \"wav\",\n",
    "}\n",
    "\n",
    "# Download available files (will throw an exception if there are no deployments for the device during the last two hours)\n",
    "# onc.getDirectFiles(params)"
   ]
  }
 ],
 "metadata": {
  "kernelspec": {
   "display_name": ".venv",
   "language": "python",
   "name": "python3"
  },
  "language_info": {
   "codemirror_mode": {
    "name": "ipython",
    "version": 3
   },
   "file_extension": ".py",
   "mimetype": "text/x-python",
   "name": "python",
   "nbconvert_exporter": "python",
   "pygments_lexer": "ipython3",
   "version": "3.10.12"
  },
  "mystnb": {
   "remove_code_outputs": true
  }
 },
 "nbformat": 4,
 "nbformat_minor": 2
}
